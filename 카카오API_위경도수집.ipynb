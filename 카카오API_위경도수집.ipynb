{
 "cells": [
  {
   "cell_type": "code",
   "execution_count": 19,
   "id": "20fa1414-bb22-41cb-b277-9097ddfc2782",
   "metadata": {},
   "outputs": [
    {
     "name": "stdout",
     "output_type": "stream",
     "text": [
      "        집계년도  시군명 관리기관명           단속일시정보   단속방법                           단속장소\n",
      "425002  2023  수원시  팔달구청  2023-01-01 0:23  국민신문고          수원시 우만동 509-11 (횡단보도)\n",
      "425003  2023  수원시  권선구청  2023-01-01 1:52  국민신문고                수원시 오목천동 527-67\n",
      "425004  2023  수원시  권선구청  2023-01-01 1:53  국민신문고                수원시 오목천동 527-67\n",
      "425005  2023  수원시  팔달구청  2023-01-01 2:40  국민신문고   수원시 화서동 127-3 (버스정류장 10m 이내)\n",
      "425006  2023  수원시  팔달구청  2023-01-01 3:28  국민신문고  수원시 인계동 1034-7 (교차로모퉁이 5m 이내)\n",
      "369736\n"
     ]
    }
   ],
   "source": [
    "주정차위반단속 = pd.read_csv(\"경기도 수원시_주정차위반단속위치현황_20231201.csv\", encoding=\"cp949\")\n",
    "#수원시 데이터 및 2023년 필터링\n",
    "주정차위반단속 = 주정차위반단속[주정차위반단속[\"집계년도\"] == 2023]\n",
    "주정차위반단속=주정차위반단속.drop(columns=[\"데이터기준일자\"])\n",
    "\n",
    "print(주정차위반단속.head())\n",
    "print(len(주정차위반단속)) "
   ]
  },
  {
   "cell_type": "code",
   "execution_count": 21,
   "id": "d6c9f896-b519-40b3-8768-4d37ebef3776",
   "metadata": {},
   "outputs": [],
   "source": [
    "주정차위반단속.to_csv(\"경기도_수원시_주정차위반단속_2023.csv\", index=False)"
   ]
  },
  {
   "cell_type": "code",
   "execution_count": 27,
   "id": "09f030d9-7e18-4437-bb09-6dfd3c051727",
   "metadata": {},
   "outputs": [
    {
     "name": "stdout",
     "output_type": "stream",
     "text": [
      "   집계년도  시군명 관리기관명           단속일시정보   단속방법                           단속장소\n",
      "0  2023  수원시  팔달구청  2023-01-01 0:23  국민신문고          수원시 우만동 509-11 (횡단보도)\n",
      "1  2023  수원시  권선구청  2023-01-01 1:52  국민신문고                수원시 오목천동 527-67\n",
      "2  2023  수원시  권선구청  2023-01-01 1:53  국민신문고                수원시 오목천동 527-67\n",
      "3  2023  수원시  팔달구청  2023-01-01 2:40  국민신문고   수원시 화서동 127-3 (버스정류장 10m 이내)\n",
      "4  2023  수원시  팔달구청  2023-01-01 3:28  국민신문고  수원시 인계동 1034-7 (교차로모퉁이 5m 이내)\n"
     ]
    }
   ],
   "source": [
    "# ✅ 2. 전체 데이터 불러오기\n",
    "#df = pd.read_csv(\"경기도_수원시_주정차위반단속_2023.csv\")\n",
    "print(df.head())\n",
    "#print(df[\"단속방법\"].value_counts())\n",
    "#고유장소수_방법별 = df.groupby(\"단속방법\")[\"단속장소\"].nunique()\n",
    "#print(고유장소수_방법별)"
   ]
  },
  {
   "cell_type": "code",
   "execution_count": 39,
   "id": "661c3bb8-cbd4-4790-87c7-e303d3ab5b04",
   "metadata": {},
   "outputs": [
    {
     "name": "stdout",
     "output_type": "stream",
     "text": [
      "   집계년도  시군명 관리기관명           단속일시정보   단속방법             단속장소\n",
      "0  2023  수원시  팔달구청  2023-01-01 0:23  국민신문고   수원시 우만동 509-11\n",
      "1  2023  수원시  권선구청  2023-01-01 1:52  국민신문고  수원시 오목천동 527-67\n",
      "2  2023  수원시  권선구청  2023-01-01 1:53  국민신문고  수원시 오목천동 527-67\n",
      "3  2023  수원시  팔달구청  2023-01-01 2:40  국민신문고    수원시 화서동 127-3\n",
      "4  2023  수원시  팔달구청  2023-01-01 3:28  국민신문고   수원시 인계동 1034-7\n"
     ]
    }
   ],
   "source": [
    "import re\n",
    "\n",
    "# 괄호 및 괄호 안 내용 제거 함수\n",
    "def remove_parentheses(text):\n",
    "    return re.sub(r\"\\([^)]*\\)\", \"\", str(text)).strip()\n",
    "\n",
    "# 단속장소 전처리 적용\n",
    "df[\"단속장소\"] = df[\"단속장소\"].apply(remove_parentheses)"
   ]
  },
  {
   "cell_type": "code",
   "execution_count": 65,
   "id": "5ee4cd24-df7c-4e86-bc77-4a92d01db40d",
   "metadata": {},
   "outputs": [],
   "source": [
    "import re\n",
    "\n",
    "def smart_clean_location(text):\n",
    "    text = str(text)\n",
    "\n",
    "    # 2. 설명형 키워드 제거\n",
    "    pattern = r\"(앞|옆|뒤|근처|모퉁이|부근|입구|길가|건너편|교차로|사거리|맞은편|길목|골목|삼거리|사거리)\"\n",
    "    text = re.sub(pattern, \"\", text)\n",
    "\n",
    "    # 3. 동명 중복 제거: OO동 OO동\n",
    "    text = re.sub(r\"\\b(\\w+동)\\s+\\1\\b\", r\"\\1\", text)\n",
    "\n",
    "    # 4. 수원시 수원시 → 수원시\n",
    "    text = re.sub(r\"\\b수원시\\s+수원시\\b\", \"수원시\", text)\n",
    "\n",
    "    # 5. 경기도수원시팔달구~ → 수원시로 대체\n",
    "    text = re.sub(r\"경기도\\s*수원시\\s*[^\\s]*\", \"수원시\", text)\n",
    "\n",
    "    # 6. 공백/기호 정리\n",
    "    text = re.sub(r\"[;]+\", \"\", text)\n",
    "    text = re.sub(r\"\\s+\", \" \", text)\n",
    "\n",
    "    return text.strip()"
   ]
  },
  {
   "cell_type": "code",
   "execution_count": 87,
   "id": "707c7c4f-10bb-487c-9b5d-04b11aa7e0af",
   "metadata": {},
   "outputs": [
    {
     "name": "stdout",
     "output_type": "stream",
     "text": [
      "        집계년도  시군명 관리기관명            단속일시정보   단속방법               단속장소\n",
      "0       2023  수원시  팔달구청   2023-01-01 0:23  국민신문고     수원시 우만동 509-11\n",
      "1       2023  수원시  권선구청   2023-01-01 1:52  국민신문고    수원시 오목천동 527-67\n",
      "2       2023  수원시  권선구청   2023-01-01 1:53  국민신문고    수원시 오목천동 527-67\n",
      "3       2023  수원시  팔달구청   2023-01-01 2:40  국민신문고      수원시 화서동 127-3\n",
      "4       2023  수원시  팔달구청   2023-01-01 3:28  국민신문고     수원시 인계동 1034-7\n",
      "...      ...  ...   ...               ...    ...                ...\n",
      "369731  2023  수원시  권선구청  2023-10-31 23:40  국민신문고       수원시 곡반정동 528\n",
      "369732  2023  수원시  권선구청  2023-10-31 23:40  국민신문고  수원시 곡반정동 528 횡단보도\n",
      "369733  2023  수원시  영통구청  2023-10-31 23:43  주민신고제  수원시 영통구 영통동1061-1\n",
      "369734  2023  수원시  권선구청  2023-10-31 23:45  국민신문고    수원시 곡반정동 516-10\n",
      "369735  2023  수원시  권선구청  2023-10-31 23:53  국민신문고    수원시 탑동 892 횡단보도\n",
      "\n",
      "[369736 rows x 6 columns]\n"
     ]
    }
   ],
   "source": [
    "#df[\"단속장소\"] = df[\"단속장소\"].apply(smart_clean_location)\n",
    "print(df)"
   ]
  },
  {
   "cell_type": "code",
   "execution_count": 91,
   "id": "d111b8b5-466e-4414-a7fa-9d18681961c2",
   "metadata": {},
   "outputs": [
    {
     "name": "stdout",
     "output_type": "stream",
     "text": [
      "\n",
      "📍 단속방법: 고정형 - 시작\n"
     ]
    },
    {
     "name": "stderr",
     "output_type": "stream",
     "text": [
      "고정형 진행 중: 100%|██████████████████████████████████████████████████████████████| 540/540 [03:36<00:00,  2.50주소/s]\n"
     ]
    },
    {
     "name": "stdout",
     "output_type": "stream",
     "text": [
      "✅ 고정형 처리 완료 (540개 주소)\n",
      "❌ 좌표 실패 (None) 개수: 174\n",
      "\n",
      "\n",
      "📍 단속방법: 주행형 - 시작\n"
     ]
    },
    {
     "name": "stderr",
     "output_type": "stream",
     "text": [
      "주행형 진행 중: 100%|████████████████████████████████████████████████████████████| 2834/2834 [18:46<00:00,  2.51주소/s]\n"
     ]
    },
    {
     "name": "stdout",
     "output_type": "stream",
     "text": [
      "✅ 주행형 처리 완료 (2834개 주소)\n",
      "❌ 좌표 실패 (None) 개수: 476\n",
      "\n",
      "\n",
      "📍 단속방법: 국민신문고 - 시작\n"
     ]
    },
    {
     "name": "stderr",
     "output_type": "stream",
     "text": [
      "국민신문고 진행 중: 100%|████████████████████████████████████████████████████| 14064/14064 [1:39:14<00:00,  2.36주소/s]\n"
     ]
    },
    {
     "name": "stdout",
     "output_type": "stream",
     "text": [
      "✅ 국민신문고 처리 완료 (14064개 주소)\n",
      "❌ 좌표 실패 (None) 개수: 584\n",
      "\n",
      "\n",
      "📍 단속방법: 보행 - 시작\n"
     ]
    },
    {
     "name": "stderr",
     "output_type": "stream",
     "text": [
      "보행 진행 중: 100%|██████████████████████████████████████████████████████████████| 3622/3622 [26:39<00:00,  2.26주소/s]\n"
     ]
    },
    {
     "name": "stdout",
     "output_type": "stream",
     "text": [
      "✅ 보행 처리 완료 (3622개 주소)\n",
      "❌ 좌표 실패 (None) 개수: 445\n",
      "\n",
      "\n",
      "📍 단속방법: 주민신고제 - 시작\n"
     ]
    },
    {
     "name": "stderr",
     "output_type": "stream",
     "text": [
      "주민신고제 진행 중: 100%|████████████████████████████████████████████████████████| 1114/1114 [07:44<00:00,  2.40주소/s]\n"
     ]
    },
    {
     "name": "stdout",
     "output_type": "stream",
     "text": [
      "✅ 주민신고제 처리 완료 (1114개 주소)\n",
      "❌ 좌표 실패 (None) 개수: 36\n",
      "\n",
      "\n",
      "🎉 모든 단속방법 처리 완료! 결과 파일: 주정차위반단속_위경도.csv\n",
      "📌 전체 좌표 실패 (lat/lon None): 1715건\n"
     ]
    }
   ],
   "source": [
    "import pandas as pd\n",
    "import requests\n",
    "import time\n",
    "from tqdm import tqdm\n",
    "\n",
    "# 📌 Kakao REST API 키 입력\n",
    "API_KEY = \"41d56449d3dce5dde7d48ffb261f0e8a\"\n",
    "HEADERS = {\"Authorization\": f\"KakaoAK {API_KEY}\"}\n",
    "\n",
    "# ✅ Kakao keyword API\n",
    "def get_coords_keyword(query):\n",
    "    url = \"https://dapi.kakao.com/v2/local/search/keyword.json\"\n",
    "    params = {\n",
    "        \"query\": query,\n",
    "        \"x\": \"127.0286\", \"y\": \"37.2636\",  # 수원 중심\n",
    "        \"radius\": 20000\n",
    "    }\n",
    "    try:\n",
    "        res = requests.get(url, headers=HEADERS, params=params, timeout=5)\n",
    "        data = res.json()\n",
    "        if res.status_code == 200 and data[\"documents\"]:\n",
    "            doc = data[\"documents\"][0]\n",
    "            return float(doc[\"y\"]), float(doc[\"x\"])\n",
    "    except:\n",
    "        pass\n",
    "    return None, None\n",
    "\n",
    "# ✅ Kakao address API\n",
    "def get_coords_address(query):\n",
    "    url = \"https://dapi.kakao.com/v2/local/search/address.json\"\n",
    "    params = {\"query\": query}\n",
    "    try:\n",
    "        res = requests.get(url, headers=HEADERS, params=params, timeout=5)\n",
    "        data = res.json()\n",
    "        if res.status_code == 200 and data[\"documents\"]:\n",
    "            doc = data[\"documents\"][0]\n",
    "            return float(doc[\"y\"]), float(doc[\"x\"])\n",
    "    except:\n",
    "        pass\n",
    "    return None, None\n",
    "\n",
    "# ✅ 통합 좌표 함수: keyword 실패 시 address 시도\n",
    "def get_coords_kakao(query):\n",
    "    lat, lon = get_coords_keyword(query)\n",
    "    if lat is not None and lon is not None:\n",
    "        return lat, lon\n",
    "\n",
    "    lat, lon = get_coords_address(query)\n",
    "    return lat, lon\n",
    "\n",
    "# ✅ 데이터 불러오기\n",
    "# df = pd.read_csv(\"경기도_수원시_주정차위반단속_2023.csv\", encoding=\"cp949\")\n",
    "\n",
    "# ✅ 단속방법 목록\n",
    "단속방법목록 = [\"고정형\", \"주행형\", \"국민신문고\", \"보행\", \"주민신고제\"]\n",
    "최종_데이터 = pd.DataFrame()\n",
    "전체_none_count = 0\n",
    "\n",
    "# ✅ 처리 루프\n",
    "for 방법 in 단속방법목록:\n",
    "    print(f\"\\n📍 단속방법: {방법} - 시작\")\n",
    "    df_sub = df[df[\"단속방법\"] == 방법].copy()\n",
    "    장소목록 = df_sub[\"단속장소\"].dropna().drop_duplicates().reset_index(drop=True)\n",
    "\n",
    "    coords_list = []\n",
    "    none_count = 0\n",
    "\n",
    "    for i, addr in enumerate(tqdm(장소목록, desc=f\"{방법} 진행 중\", unit=\"주소\")):\n",
    "        lat, lon = get_coords_kakao(addr)\n",
    "        if lat is None or lon is None:\n",
    "            none_count += 1\n",
    "        coords_list.append({\"단속장소\": addr, \"lat\": lat, \"lon\": lon})\n",
    "        time.sleep(0.3)\n",
    "\n",
    "    coords_df = pd.DataFrame(coords_list)\n",
    "    coords_df.to_csv(f\"latlon_{방법}.csv\", index=False, encoding=\"utf-8-sig\")\n",
    "\n",
    "    df_sub = df_sub.merge(coords_df, on=\"단속장소\", how=\"left\")\n",
    "    최종_데이터 = pd.concat([최종_데이터, df_sub], ignore_index=True)\n",
    "\n",
    "    print(f\"✅ {방법} 처리 완료 ({len(장소목록)}개 주소)\")\n",
    "    print(f\"❌ 좌표 실패 (None) 개수: {none_count}\\n\")\n",
    "\n",
    "    전체_none_count += none_count\n",
    "\n",
    "# ✅ 최종 저장\n",
    "최종_데이터.to_csv(\"주정차위반단속_위경도.csv\", index=False, encoding=\"utf-8-sig\")\n",
    "print(\"\\n🎉 모든 단속방법 처리 완료! 결과 파일: 주정차위반단속_위경도.csv\")\n",
    "print(f\"📌 전체 좌표 실패 (lat/lon None): {전체_none_count}건\")\n"
   ]
  },
  {
   "cell_type": "code",
   "execution_count": 89,
   "id": "1d1919b6-9cae-411c-a129-5fe6c65b04c8",
   "metadata": {},
   "outputs": [
    {
     "name": "stdout",
     "output_type": "stream",
     "text": [
      "📍 검색 방식: address\n",
      "✅ 주소: 수원시 곡반정동 528 횡단보도\n",
      "→ 위도: 37.242735107652, 경도: 127.032064539442\n"
     ]
    }
   ],
   "source": [
    "#테스트코드\n",
    "import requests\n",
    "\n",
    "# 카카오 API 키\n",
    "API_KEY = \"41d56449d3dce5dde7d48ffb261f0e8a\"\n",
    "HEADERS = {\"Authorization\": f\"KakaoAK {API_KEY}\"}\n",
    "\n",
    "# 주소: keyword → address 순서로 요청\n",
    "def get_coords_keyword(query):\n",
    "    url = \"https://dapi.kakao.com/v2/local/search/keyword.json\"\n",
    "    params = {\n",
    "        \"query\": query,\n",
    "        \"x\": \"127.0286\", \"y\": \"37.2636\",  # 수원 중심\n",
    "        \"radius\": 20000\n",
    "    }\n",
    "    try:\n",
    "        res = requests.get(url, headers=HEADERS, params=params, timeout=5)\n",
    "        data = res.json()\n",
    "        if res.status_code == 200 and data[\"documents\"]:\n",
    "            doc = data[\"documents\"][0]\n",
    "            return \"keyword\", float(doc[\"y\"]), float(doc[\"x\"])\n",
    "    except:\n",
    "        pass\n",
    "    return None, None, None\n",
    "\n",
    "def get_coords_address(query):\n",
    "    url = \"https://dapi.kakao.com/v2/local/search/address.json\"\n",
    "    params = {\"query\": query}\n",
    "    try:\n",
    "        res = requests.get(url, headers=HEADERS, params=params, timeout=5)\n",
    "        data = res.json()\n",
    "        if res.status_code == 200 and data[\"documents\"]:\n",
    "            doc = data[\"documents\"][0]\n",
    "            return \"address\", float(doc[\"y\"]), float(doc[\"x\"])\n",
    "    except:\n",
    "        pass\n",
    "    return None, None, None\n",
    "\n",
    "def get_coords_kakao(query):\n",
    "    method, lat, lon = get_coords_keyword(query)\n",
    "    if lat is not None and lon is not None:\n",
    "        return method, lat, lon\n",
    "\n",
    "    method, lat, lon = get_coords_address(query)\n",
    "    if lat is not None and lon is not None:\n",
    "        return method, lat, lon\n",
    "\n",
    "    return None, None, None\n",
    "\n",
    "# ✅ 테스트할 단일 주소\n",
    "test_address = \"수원시 곡반정동 528 횡단보도\"  # ← 원하는 주소로 바꿔도 됨\n",
    "\n",
    "# ✅ 실행\n",
    "result = get_coords_kakao(test_address)\n",
    "\n",
    "if result[0]:\n",
    "    print(f\"📍 검색 방식: {result[0]}\")\n",
    "    print(f\"✅ 주소: {test_address}\")\n",
    "    print(f\"→ 위도: {result[1]}, 경도: {result[2]}\")\n",
    "else:\n",
    "    print(f\"❌ 좌표 반환 실패: {test_address}\")\n"
   ]
  },
  {
   "cell_type": "markdown",
   "id": "9b9d4dd1-f21e-474a-a216-86da68425763",
   "metadata": {},
   "source": [
    "### 아래는 테스트 해본것"
   ]
  },
  {
   "cell_type": "code",
   "execution_count": 85,
   "id": "de078698-8590-4991-a2e7-2ec632cc7023",
   "metadata": {},
   "outputs": [
    {
     "name": "stdout",
     "output_type": "stream",
     "text": [
      "📍 검색 방식: keyword\n",
      "✅ 주소: 수원시 인계동 시청\n",
      "→ 위도: 37.263584678785, 경도: 127.028715898311\n"
     ]
    }
   ],
   "source": [
    "import requests\n",
    "\n",
    "# 📌 Kakao REST API 키\n",
    "API_KEY = \"41d56449d3dce5dde7d48ffb261f0e8a\"\n",
    "HEADERS = {\"Authorization\": f\"KakaoAK {API_KEY}\"}\n",
    "\n",
    "# ✅ Kakao keyword API\n",
    "def get_coords_keyword(query):\n",
    "    url = \"https://dapi.kakao.com/v2/local/search/keyword.json\"\n",
    "    params = {\n",
    "        \"query\": query,\n",
    "        \"x\": \"127.0286\",  # 수원 중심\n",
    "        \"y\": \"37.2636\",\n",
    "        \"radius\": 20000\n",
    "    }\n",
    "    try:\n",
    "        res = requests.get(url, headers=HEADERS, params=params, timeout=5)\n",
    "        data = res.json()\n",
    "        if res.status_code == 200 and data[\"documents\"]:\n",
    "            doc = data[\"documents\"][0]\n",
    "            return float(doc[\"y\"]), float(doc[\"x\"])\n",
    "    except:\n",
    "        pass\n",
    "    return None, None\n",
    "\n",
    "# ✅ Kakao address API\n",
    "def get_coords_address(query):\n",
    "    url = \"https://dapi.kakao.com/v2/local/search/address.json\"\n",
    "    params = {\"query\": query}\n",
    "    try:\n",
    "        res = requests.get(url, headers=HEADERS, params=params, timeout=5)\n",
    "        data = res.json()\n",
    "        if res.status_code == 200 and data[\"documents\"]:\n",
    "            doc = data[\"documents\"][0]\n",
    "            return float(doc[\"y\"]), float(doc[\"x\"])\n",
    "    except:\n",
    "        pass\n",
    "    return None, None\n",
    "\n",
    "# ✅ 최종 통합 함수: keyword 먼저, 실패 시 address\n",
    "def get_coords_kakao(query):\n",
    "    lat, lon = get_coords_keyword(query)\n",
    "    if lat is not None and lon is not None:\n",
    "        return \"keyword\", lat, lon\n",
    "\n",
    "    lat, lon = get_coords_address(query)\n",
    "    if lat is not None and lon is not None:\n",
    "        return \"address\", lat, lon\n",
    "\n",
    "    return None, None, None\n",
    "\n",
    "# ✅ 테스트 주소 (원하는 주소로 바꿔보세요)\n",
    "test_address = \"수원시 인계동 시청\"\n",
    "\n",
    "# ✅ 실행\n",
    "method, lat, lon = get_coords_kakao(test_address)\n",
    "\n",
    "if method:\n",
    "    print(f\"📍 검색 방식: {method}\")\n",
    "    print(f\"✅ 주소: {test_address}\")\n",
    "    print(f\"→ 위도: {lat}, 경도: {lon}\")\n",
    "else:\n",
    "    print(f\"❌ 좌표 반환 실패: {test_address}\")\n"
   ]
  },
  {
   "cell_type": "code",
   "execution_count": 29,
   "id": "0e4b889a-6880-4ff6-8bbf-9bd990594bbf",
   "metadata": {},
   "outputs": [
    {
     "name": "stdout",
     "output_type": "stream",
     "text": [
      "상태코드: 200\n",
      "응답 본문: {\"documents\":[],\"meta\":{\"is_end\":true,\"pageable_count\":0,\"same_name\":{\"keyword\":\"버스정류장 10m 이내\",\"region\":[],\"selected_region\":\"경기 수원시 팔달구 화서동\"},\"total_count\":0}}\n"
     ]
    }
   ],
   "source": [
    "import requests\n",
    "\n",
    "key = \"41d56449d3dce5dde7d48ffb261f0e8a\"  # ← 여기에 실제 키\n",
    "\n",
    "url = \"https://dapi.kakao.com/v2/local/search/keyword.json\"\n",
    "headers = {\"Authorization\": f\"KakaoAK {key}\"}\n",
    "params = {\"query\": \"청학골프클럽\"}\n",
    "\n",
    "res = requests.get(url, headers=headers, params=params)\n",
    "\n",
    "print(\"상태코드:\", res.status_code)\n",
    "print(\"응답 본문:\", res.text)"
   ]
  },
  {
   "cell_type": "code",
   "execution_count": null,
   "id": "c2383b7e-76a4-4e95-aab1-39cefa57bd3d",
   "metadata": {},
   "outputs": [],
   "source": []
  }
 ],
 "metadata": {
  "kernelspec": {
   "display_name": "Python 3 (ipykernel)",
   "language": "python",
   "name": "python3"
  },
  "language_info": {
   "codemirror_mode": {
    "name": "ipython",
    "version": 3
   },
   "file_extension": ".py",
   "mimetype": "text/x-python",
   "name": "python",
   "nbconvert_exporter": "python",
   "pygments_lexer": "ipython3",
   "version": "3.12.4"
  }
 },
 "nbformat": 4,
 "nbformat_minor": 5
}
